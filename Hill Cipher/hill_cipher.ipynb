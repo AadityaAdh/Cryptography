{
  "nbformat": 4,
  "nbformat_minor": 0,
  "metadata": {
    "colab": {
      "provenance": []
    },
    "kernelspec": {
      "name": "python3",
      "display_name": "Python 3"
    },
    "language_info": {
      "name": "python"
    }
  },
  "cells": [
    {
      "cell_type": "code",
      "execution_count": 72,
      "metadata": {
        "id": "h8eQpIBepflN"
      },
      "outputs": [],
      "source": [
        "import numpy as np"
      ]
    },
    {
      "cell_type": "code",
      "source": [
        "p=input(\"enter your 2 letters to be encrypted using hill cipher \")"
      ],
      "metadata": {
        "colab": {
          "base_uri": "https://localhost:8080/"
        },
        "id": "h13_ixb3p3Zk",
        "outputId": "18d38885-25ea-44bf-faad-aa9caec14259"
      },
      "execution_count": 73,
      "outputs": [
        {
          "name": "stdout",
          "output_type": "stream",
          "text": [
            "enter your 2 letters to be encrypted using hill cipher mi\n"
          ]
        }
      ]
    },
    {
      "cell_type": "code",
      "source": [
        "p=p.upper()"
      ],
      "metadata": {
        "id": "nTrcjiNzqANN"
      },
      "execution_count": 74,
      "outputs": []
    },
    {
      "cell_type": "code",
      "source": [
        "p"
      ],
      "metadata": {
        "colab": {
          "base_uri": "https://localhost:8080/",
          "height": 35
        },
        "id": "of_MLyNju85x",
        "outputId": "65327f1a-d127-4b8e-d139-8c326d138b54"
      },
      "execution_count": 75,
      "outputs": [
        {
          "output_type": "execute_result",
          "data": {
            "text/plain": [
              "'MI'"
            ],
            "application/vnd.google.colaboratory.intrinsic+json": {
              "type": "string"
            }
          },
          "metadata": {},
          "execution_count": 75
        }
      ]
    },
    {
      "cell_type": "code",
      "source": [
        "letter_index={}"
      ],
      "metadata": {
        "id": "ng1bsIcKqDOb"
      },
      "execution_count": 76,
      "outputs": []
    },
    {
      "cell_type": "code",
      "source": [
        "for i in range(65,91):\n",
        "  letter_index.update({chr(i):i-65})"
      ],
      "metadata": {
        "id": "q-TK1F3zqaBk"
      },
      "execution_count": 77,
      "outputs": []
    },
    {
      "cell_type": "code",
      "source": [
        "letter_index"
      ],
      "metadata": {
        "colab": {
          "base_uri": "https://localhost:8080/"
        },
        "id": "HI_molj0qz4L",
        "outputId": "3f1624c1-f53c-44d8-d0b1-72a8a118c17a"
      },
      "execution_count": 78,
      "outputs": [
        {
          "output_type": "execute_result",
          "data": {
            "text/plain": [
              "{'A': 0,\n",
              " 'B': 1,\n",
              " 'C': 2,\n",
              " 'D': 3,\n",
              " 'E': 4,\n",
              " 'F': 5,\n",
              " 'G': 6,\n",
              " 'H': 7,\n",
              " 'I': 8,\n",
              " 'J': 9,\n",
              " 'K': 10,\n",
              " 'L': 11,\n",
              " 'M': 12,\n",
              " 'N': 13,\n",
              " 'O': 14,\n",
              " 'P': 15,\n",
              " 'Q': 16,\n",
              " 'R': 17,\n",
              " 'S': 18,\n",
              " 'T': 19,\n",
              " 'U': 20,\n",
              " 'V': 21,\n",
              " 'W': 22,\n",
              " 'X': 23,\n",
              " 'Y': 24,\n",
              " 'Z': 25}"
            ]
          },
          "metadata": {},
          "execution_count": 78
        }
      ]
    },
    {
      "cell_type": "code",
      "source": [
        "mat_p=np.array([letter_index[p[0]],letter_index[p[1]]])"
      ],
      "metadata": {
        "id": "iP4hEpPyr2Xx"
      },
      "execution_count": 79,
      "outputs": []
    },
    {
      "cell_type": "code",
      "source": [
        "mat_p"
      ],
      "metadata": {
        "colab": {
          "base_uri": "https://localhost:8080/"
        },
        "id": "5vDxcqTBxk8f",
        "outputId": "1222eb25-5638-486b-e3ca-ac7704ad175e"
      },
      "execution_count": 80,
      "outputs": [
        {
          "output_type": "execute_result",
          "data": {
            "text/plain": [
              "array([12,  8])"
            ]
          },
          "metadata": {},
          "execution_count": 80
        }
      ]
    },
    {
      "cell_type": "code",
      "source": [
        "mat_p=mat_p.reshape(2,1)"
      ],
      "metadata": {
        "id": "J5GBUZpQvLnP"
      },
      "execution_count": 81,
      "outputs": []
    },
    {
      "cell_type": "code",
      "source": [
        "k=np.array([[3,25],[24,17]])"
      ],
      "metadata": {
        "id": "g1-KVRb4wHoK"
      },
      "execution_count": 90,
      "outputs": []
    },
    {
      "cell_type": "code",
      "source": [
        "k.shape"
      ],
      "metadata": {
        "colab": {
          "base_uri": "https://localhost:8080/"
        },
        "id": "-RGR_5_Ywftr",
        "outputId": "36c4dfa2-69e4-4090-b4e1-ed9178c0b742"
      },
      "execution_count": 91,
      "outputs": [
        {
          "output_type": "execute_result",
          "data": {
            "text/plain": [
              "(2, 2)"
            ]
          },
          "metadata": {},
          "execution_count": 91
        }
      ]
    },
    {
      "cell_type": "markdown",
      "source": [
        "#Encryption:\n",
        "we use formula as\n",
        "\n",
        "    C=KP mod 26"
      ],
      "metadata": {
        "id": "gjrj2OZtwp8T"
      }
    },
    {
      "cell_type": "code",
      "source": [
        "c=np.matmul(k,mat_p)"
      ],
      "metadata": {
        "id": "PwJUevpiwh6L"
      },
      "execution_count": 92,
      "outputs": []
    },
    {
      "cell_type": "code",
      "source": [
        "c=c%26"
      ],
      "metadata": {
        "id": "eTa0krewxJ1S"
      },
      "execution_count": 93,
      "outputs": []
    },
    {
      "cell_type": "code",
      "source": [
        "c"
      ],
      "metadata": {
        "colab": {
          "base_uri": "https://localhost:8080/"
        },
        "id": "89tV--7MxMlG",
        "outputId": "71761c82-435c-4633-cf2e-8ed9eb33b082"
      },
      "execution_count": 94,
      "outputs": [
        {
          "output_type": "execute_result",
          "data": {
            "text/plain": [
              "array([[2],\n",
              "       [8]])"
            ]
          },
          "metadata": {},
          "execution_count": 94
        }
      ]
    },
    {
      "cell_type": "code",
      "source": [
        "outpt=np.array([])"
      ],
      "metadata": {
        "id": "1eV0YV32zeQB"
      },
      "execution_count": 95,
      "outputs": []
    },
    {
      "cell_type": "code",
      "source": [
        "for key in letter_index:\n",
        "  for i in range(len(c)):\n",
        "    if(letter_index[key]==c[i,0]):\n",
        "      outpt=np.append(outpt,key)"
      ],
      "metadata": {
        "id": "k17Wqbm6xY3g"
      },
      "execution_count": 96,
      "outputs": []
    },
    {
      "cell_type": "code",
      "source": [
        "outpt"
      ],
      "metadata": {
        "colab": {
          "base_uri": "https://localhost:8080/"
        },
        "id": "vAzxYfoMzidt",
        "outputId": "c90d0fe4-5fa3-44b1-b665-76dc4f91ad37"
      },
      "execution_count": 97,
      "outputs": [
        {
          "output_type": "execute_result",
          "data": {
            "text/plain": [
              "array(['C', 'I'], dtype='<U32')"
            ]
          },
          "metadata": {},
          "execution_count": 97
        }
      ]
    },
    {
      "cell_type": "code",
      "source": [
        "outpt_str=\"your encrepted text is:\""
      ],
      "metadata": {
        "id": "AJ17URY90HmN"
      },
      "execution_count": 98,
      "outputs": []
    },
    {
      "cell_type": "code",
      "source": [
        "for values in outpt:\n",
        "  outpt_str=outpt_str+values"
      ],
      "metadata": {
        "id": "L-wDFOZR0PM6"
      },
      "execution_count": 99,
      "outputs": []
    },
    {
      "cell_type": "code",
      "source": [
        "outpt_str"
      ],
      "metadata": {
        "colab": {
          "base_uri": "https://localhost:8080/",
          "height": 35
        },
        "id": "sKzc80--0y0a",
        "outputId": "f1980735-589c-4545-e0e8-659d396b6fbe"
      },
      "execution_count": 100,
      "outputs": [
        {
          "output_type": "execute_result",
          "data": {
            "text/plain": [
              "'your encrepted text is:CI'"
            ],
            "application/vnd.google.colaboratory.intrinsic+json": {
              "type": "string"
            }
          },
          "metadata": {},
          "execution_count": 100
        }
      ]
    },
    {
      "cell_type": "markdown",
      "source": [
        "#Decryption:\n",
        "we use\n",
        "\n",
        "    P=k(-1)C mod 26"
      ],
      "metadata": {
        "id": "Wg4ekBNp2sWC"
      }
    },
    {
      "cell_type": "code",
      "source": [
        "determinant=np.linalg.det(k)"
      ],
      "metadata": {
        "id": "DOLIew8O3RJJ"
      },
      "execution_count": 114,
      "outputs": []
    },
    {
      "cell_type": "code",
      "source": [
        "determinant"
      ],
      "metadata": {
        "colab": {
          "base_uri": "https://localhost:8080/"
        },
        "id": "ucg0KbdP3XSx",
        "outputId": "3796a2d9-dc08-4a95-d918-5bef23f6bdaf"
      },
      "execution_count": 115,
      "outputs": [
        {
          "output_type": "execute_result",
          "data": {
            "text/plain": [
              "-548.9999999999999"
            ]
          },
          "metadata": {},
          "execution_count": 115
        }
      ]
    },
    {
      "cell_type": "code",
      "source": [
        "if(abs(determinant)>25):\n",
        "  if determinant>0:\n",
        "    determinant=determinant%26\n",
        "  else:\n",
        "    determinant=-1*(abs(determinant)%26)+26"
      ],
      "metadata": {
        "id": "0-naumwP3YW4"
      },
      "execution_count": 116,
      "outputs": []
    },
    {
      "cell_type": "code",
      "source": [
        "determinant"
      ],
      "metadata": {
        "colab": {
          "base_uri": "https://localhost:8080/"
        },
        "id": "74y9Odg33xUY",
        "outputId": "b7a7a1a3-41e3-4ce2-bb49-d90fcc316b07"
      },
      "execution_count": 117,
      "outputs": [
        {
          "output_type": "execute_result",
          "data": {
            "text/plain": [
              "23.000000000000114"
            ]
          },
          "metadata": {},
          "execution_count": 117
        }
      ]
    },
    {
      "cell_type": "markdown",
      "source": [
        "#Adjust adjoint manually"
      ],
      "metadata": {
        "id": "50RB11OHMqFI"
      }
    },
    {
      "cell_type": "code",
      "source": [
        "adjoint=np.array([[17,-25],[-24,3]])"
      ],
      "metadata": {
        "id": "MXlr-Tdk3yN5"
      },
      "execution_count": 151,
      "outputs": []
    },
    {
      "cell_type": "code",
      "source": [
        "adjoint"
      ],
      "metadata": {
        "colab": {
          "base_uri": "https://localhost:8080/"
        },
        "id": "36_H1rQq5UYJ",
        "outputId": "8995281f-85a3-49e3-a0b6-9a701af8369d"
      },
      "execution_count": 152,
      "outputs": [
        {
          "output_type": "execute_result",
          "data": {
            "text/plain": [
              "array([[ 17, -25],\n",
              "       [-24,   3]])"
            ]
          },
          "metadata": {},
          "execution_count": 152
        }
      ]
    },
    {
      "cell_type": "code",
      "source": [
        "adjoint=adjoint.astype(int)"
      ],
      "metadata": {
        "id": "VzCqkh6s5v9P"
      },
      "execution_count": 153,
      "outputs": []
    },
    {
      "cell_type": "code",
      "source": [
        "adjoint"
      ],
      "metadata": {
        "colab": {
          "base_uri": "https://localhost:8080/"
        },
        "id": "wlpT78df6Hqt",
        "outputId": "c7c127de-4017-4139-c3ac-c97eee3f25a2"
      },
      "execution_count": 154,
      "outputs": [
        {
          "output_type": "execute_result",
          "data": {
            "text/plain": [
              "array([[ 17, -25],\n",
              "       [-24,   3]])"
            ]
          },
          "metadata": {},
          "execution_count": 154
        }
      ]
    },
    {
      "cell_type": "code",
      "source": [
        "determinant=int(determinant)"
      ],
      "metadata": {
        "id": "tArAvxA67VSL"
      },
      "execution_count": 155,
      "outputs": []
    },
    {
      "cell_type": "code",
      "source": [
        "inverse=adjoint/determinant"
      ],
      "metadata": {
        "id": "EBIVMuv67dpd"
      },
      "execution_count": 156,
      "outputs": []
    },
    {
      "cell_type": "code",
      "source": [
        "inverse"
      ],
      "metadata": {
        "colab": {
          "base_uri": "https://localhost:8080/"
        },
        "id": "TySDV4A77ipG",
        "outputId": "2169b2bb-160e-43c6-9678-b01f6d9bb1ed"
      },
      "execution_count": 157,
      "outputs": [
        {
          "output_type": "execute_result",
          "data": {
            "text/plain": [
              "array([[ 0.73913043, -1.08695652],\n",
              "       [-1.04347826,  0.13043478]])"
            ]
          },
          "metadata": {},
          "execution_count": 157
        }
      ]
    },
    {
      "cell_type": "markdown",
      "source": [
        "#here if floatig point value is obtained we need to do using another method"
      ],
      "metadata": {
        "id": "Ohvifo3M7miz"
      }
    },
    {
      "cell_type": "code",
      "source": [
        "for i in range(100):\n",
        "  value=(1+26*i)/determinant\n",
        "  if(value-int(value)<0.001):\n",
        "    break"
      ],
      "metadata": {
        "id": "yPlEO3mT7j3k"
      },
      "execution_count": 193,
      "outputs": []
    },
    {
      "cell_type": "code",
      "source": [
        "value"
      ],
      "metadata": {
        "colab": {
          "base_uri": "https://localhost:8080/"
        },
        "id": "Hbbl1njw8RK_",
        "outputId": "0a1e537c-ea70-4e9e-c591-6b0736a85d5e"
      },
      "execution_count": 194,
      "outputs": [
        {
          "output_type": "execute_result",
          "data": {
            "text/plain": [
              "17.0"
            ]
          },
          "metadata": {},
          "execution_count": 194
        }
      ]
    },
    {
      "cell_type": "code",
      "source": [
        "value=int(value)"
      ],
      "metadata": {
        "id": "edpZXK8j8SYm"
      },
      "execution_count": 195,
      "outputs": []
    },
    {
      "cell_type": "code",
      "source": [
        "inverse=value*adjoint"
      ],
      "metadata": {
        "id": "MnYP6by79dHo"
      },
      "execution_count": 196,
      "outputs": []
    },
    {
      "cell_type": "code",
      "source": [
        "inverse"
      ],
      "metadata": {
        "colab": {
          "base_uri": "https://localhost:8080/"
        },
        "id": "ePEzEpGM9xEF",
        "outputId": "8eb65681-9c9e-4371-ff10-b513c3ff72a6"
      },
      "execution_count": 197,
      "outputs": [
        {
          "output_type": "execute_result",
          "data": {
            "text/plain": [
              "array([[ 289, -425],\n",
              "       [-408,   51]])"
            ]
          },
          "metadata": {},
          "execution_count": 197
        }
      ]
    },
    {
      "cell_type": "code",
      "source": [
        "for i in range(2):\n",
        "  for j in range(2):\n",
        "    print(inverse[i,j])\n",
        "    if(inverse[i,j]<0):\n",
        "      k=1*(inverse[i,j]%26)\n",
        "      #print(k)\n",
        "      inverse[i,j]=k\n",
        "      #print(inverse[i,j])\n",
        "    else:\n",
        "\n",
        "      inverse[i,j]=inverse[i,j]%26\n"
      ],
      "metadata": {
        "colab": {
          "base_uri": "https://localhost:8080/"
        },
        "id": "YG2f0Q_U9yVk",
        "outputId": "ac3cd2d6-5560-41c3-8678-3b97cdcdf70a"
      },
      "execution_count": 201,
      "outputs": [
        {
          "output_type": "stream",
          "name": "stdout",
          "text": [
            "289\n",
            "-425\n",
            "-408\n",
            "51\n"
          ]
        }
      ]
    },
    {
      "cell_type": "code",
      "source": [
        "inverse"
      ],
      "metadata": {
        "colab": {
          "base_uri": "https://localhost:8080/"
        },
        "id": "hSWbYwIb-RYQ",
        "outputId": "0038bb0b-2206-4232-eb3e-87c511c71522"
      },
      "execution_count": 202,
      "outputs": [
        {
          "output_type": "execute_result",
          "data": {
            "text/plain": [
              "array([[ 3, 17],\n",
              "       [ 8, 25]])"
            ]
          },
          "metadata": {},
          "execution_count": 202
        }
      ]
    },
    {
      "cell_type": "markdown",
      "source": [
        "#Now decryption\n",
        "using:\n",
        "\n",
        "    k-1c mod 26"
      ],
      "metadata": {
        "id": "qqHUxLpJCNeg"
      }
    },
    {
      "cell_type": "code",
      "source": [
        "decrypted=np.matmul(inverse,c)"
      ],
      "metadata": {
        "id": "ehA5gjxU-aWf"
      },
      "execution_count": 203,
      "outputs": []
    },
    {
      "cell_type": "code",
      "source": [
        "c"
      ],
      "metadata": {
        "colab": {
          "base_uri": "https://localhost:8080/"
        },
        "id": "A77fRT4UCrg0",
        "outputId": "183b0786-9f4f-4aff-c717-c4fb7515c370"
      },
      "execution_count": 205,
      "outputs": [
        {
          "output_type": "execute_result",
          "data": {
            "text/plain": [
              "array([[2],\n",
              "       [8]])"
            ]
          },
          "metadata": {},
          "execution_count": 205
        }
      ]
    },
    {
      "cell_type": "code",
      "source": [
        "inverse"
      ],
      "metadata": {
        "colab": {
          "base_uri": "https://localhost:8080/"
        },
        "id": "_Nt0iaVACtLF",
        "outputId": "0c86b956-a70b-4321-edcc-f40ee5e69c08"
      },
      "execution_count": 206,
      "outputs": [
        {
          "output_type": "execute_result",
          "data": {
            "text/plain": [
              "array([[ 3, 17],\n",
              "       [ 8, 25]])"
            ]
          },
          "metadata": {},
          "execution_count": 206
        }
      ]
    },
    {
      "cell_type": "code",
      "source": [
        "decryp=np.matmul(inverse,c)"
      ],
      "metadata": {
        "id": "rO7X8mG_CzH7"
      },
      "execution_count": 207,
      "outputs": []
    },
    {
      "cell_type": "code",
      "source": [
        "decryp=decryp%26"
      ],
      "metadata": {
        "id": "7MSX9PzrC-SY"
      },
      "execution_count": 208,
      "outputs": []
    },
    {
      "cell_type": "code",
      "source": [
        "decryp"
      ],
      "metadata": {
        "colab": {
          "base_uri": "https://localhost:8080/"
        },
        "id": "rDYZAkfxDIAH",
        "outputId": "85772926-21bf-4c2f-e96f-efa728425820"
      },
      "execution_count": 210,
      "outputs": [
        {
          "output_type": "execute_result",
          "data": {
            "text/plain": [
              "array([[12],\n",
              "       [ 8]])"
            ]
          },
          "metadata": {},
          "execution_count": 210
        }
      ]
    },
    {
      "cell_type": "code",
      "source": [
        "output_str=\"your decryped value is :\""
      ],
      "metadata": {
        "id": "rvf_AbMhDBIo"
      },
      "execution_count": 231,
      "outputs": []
    },
    {
      "cell_type": "code",
      "source": [
        "outpt=np.array([])"
      ],
      "metadata": {
        "id": "x6Ze-O9LDHKn"
      },
      "execution_count": 232,
      "outputs": []
    },
    {
      "cell_type": "code",
      "source": [
        "\n",
        "for i in decryp:\n",
        "  for j in i:\n",
        "    for key in letter_index:\n",
        "      if letter_index[key]==j:\n",
        "        print(key)\n",
        "        outpt=np.append(outpt,key)"
      ],
      "metadata": {
        "colab": {
          "base_uri": "https://localhost:8080/"
        },
        "id": "e8tZeExHDz4w",
        "outputId": "0977b910-2902-4f3b-9f10-7b3aff5b67ad"
      },
      "execution_count": 236,
      "outputs": [
        {
          "output_type": "stream",
          "name": "stdout",
          "text": [
            "M\n",
            "I\n"
          ]
        }
      ]
    },
    {
      "cell_type": "code",
      "source": [
        "outpt"
      ],
      "metadata": {
        "colab": {
          "base_uri": "https://localhost:8080/"
        },
        "id": "oct2JkmREly9",
        "outputId": "1a94bfd6-8035-4321-f55d-054c11749159"
      },
      "execution_count": 237,
      "outputs": [
        {
          "output_type": "execute_result",
          "data": {
            "text/plain": [
              "array(['M', 'I'], dtype='<U32')"
            ]
          },
          "metadata": {},
          "execution_count": 237
        }
      ]
    },
    {
      "cell_type": "code",
      "source": [
        "for values in outpt:\n",
        "  output_str=output_str+values"
      ],
      "metadata": {
        "id": "fhNSyXP9D-Hg"
      },
      "execution_count": 238,
      "outputs": []
    },
    {
      "cell_type": "code",
      "source": [
        "output_str"
      ],
      "metadata": {
        "colab": {
          "base_uri": "https://localhost:8080/",
          "height": 35
        },
        "id": "BJlpA3UyEArF",
        "outputId": "a6358710-9377-498a-eb05-bc7b652e9665"
      },
      "execution_count": 239,
      "outputs": [
        {
          "output_type": "execute_result",
          "data": {
            "text/plain": [
              "'your decryped value is :MI'"
            ],
            "application/vnd.google.colaboratory.intrinsic+json": {
              "type": "string"
            }
          },
          "metadata": {},
          "execution_count": 239
        }
      ]
    },
    {
      "cell_type": "code",
      "source": [],
      "metadata": {
        "id": "uL8qNDCxEDVO"
      },
      "execution_count": 223,
      "outputs": []
    }
  ]
}